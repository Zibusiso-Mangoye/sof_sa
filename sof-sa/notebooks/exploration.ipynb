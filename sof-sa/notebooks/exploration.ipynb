{
 "cells": [
  {
   "cell_type": "markdown",
   "metadata": {},
   "source": [
    "While writing this notebook, the data was stored locally in my computer therefore to follow along with this note book you will need to download the data from here : https://insights.stackoverflow.com/survey/\n",
    "\n",
    "##### Process followed:\n",
    "STEP 1. Count unique elements in a column\n",
    "\n",
    "        Each column has a list of options that a user picked out seperated by a semi-colon (;).\n",
    "        So the in each row the list is split and elements are added to a list.\n",
    "        Then unique items in the list are counted and the data recorded in a dataframe with index as unique items in the list.\n",
    "    \n",
    "STEP 2. Repeat the first step for each year\n",
    "STEP 3. Merge all the dataframes into one table\n",
    "\n",
    "Each question will have a table that answers it therefore we repeat the above process four times."
   ]
  },
  {
   "cell_type": "code",
   "execution_count": 1,
   "metadata": {},
   "outputs": [],
   "source": [
    "# Imports\n",
    "import pandas as pd"
   ]
  },
  {
   "cell_type": "code",
   "execution_count": 2,
   "metadata": {},
   "outputs": [
    {
     "data": {
      "text/html": [
       "<pre style=\"white-space:pre;overflow-x:auto;line-height:normal;font-family:Menlo,'DejaVu Sans Mono',consolas,'Courier New',monospace\"><span style=\"color: #7fbfbf; text-decoration-color: #7fbfbf\">[09/09/22 05:46:47] </span><span style=\"color: #000080; text-decoration-color: #000080\">INFO    </span> Loading data from <span style=\"color: #008000; text-decoration-color: #008000\">'public_2018_data'</span> <span style=\"font-weight: bold\">(</span>CSVDataSet<span style=\"font-weight: bold\">)</span><span style=\"color: #808000; text-decoration-color: #808000\">...</span>               <a href=\"file://C:\\Users\\znman\\Desktop\\Projects\\sof_sa\\venv\\lib\\site-packages\\kedro\\io\\data_catalog.py\" target=\"_blank\"><span style=\"color: #7f7f7f; text-decoration-color: #7f7f7f\">data_catalog.py</span></a><span style=\"color: #7f7f7f; text-decoration-color: #7f7f7f\">:</span><a href=\"file://C:\\Users\\znman\\Desktop\\Projects\\sof_sa\\venv\\lib\\site-packages\\kedro\\io\\data_catalog.py#343\" target=\"_blank\"><span style=\"color: #7f7f7f; text-decoration-color: #7f7f7f\">343</span></a>\n",
       "</pre>\n"
      ],
      "text/plain": [
       "\u001b[2;36m[09/09/22 05:46:47]\u001b[0m\u001b[2;36m \u001b[0m\u001b[34mINFO    \u001b[0m Loading data from \u001b[32m'public_2018_data'\u001b[0m \u001b[1m(\u001b[0mCSVDataSet\u001b[1m)\u001b[0m\u001b[33m...\u001b[0m               \u001b]8;id=555644;file://C:\\Users\\znman\\Desktop\\Projects\\sof_sa\\venv\\lib\\site-packages\\kedro\\io\\data_catalog.py\u001b\\\u001b[2mdata_catalog.py\u001b[0m\u001b]8;;\u001b\\\u001b[2m:\u001b[0m\u001b]8;id=587120;file://C:\\Users\\znman\\Desktop\\Projects\\sof_sa\\venv\\lib\\site-packages\\kedro\\io\\data_catalog.py#343\u001b\\\u001b[2m343\u001b[0m\u001b]8;;\u001b\\\n"
      ]
     },
     "metadata": {},
     "output_type": "display_data"
    },
    {
     "data": {
      "text/html": [
       "<pre style=\"white-space:pre;overflow-x:auto;line-height:normal;font-family:Menlo,'DejaVu Sans Mono',consolas,'Courier New',monospace\"><span style=\"color: #7fbfbf; text-decoration-color: #7fbfbf\">[09/09/22 05:46:50] </span><span style=\"color: #800000; text-decoration-color: #800000\">WARNING </span> C:\\Users\\znman\\Desktop\\Projects\\sof_sa\\venv\\lib\\site-packages\\kedro\\ex <a href=\"file://C:\\Users\\znman\\AppData\\Local\\Programs\\Python\\Python310\\lib\\warnings.py\" target=\"_blank\"><span style=\"color: #7f7f7f; text-decoration-color: #7f7f7f\">warnings.py</span></a><span style=\"color: #7f7f7f; text-decoration-color: #7f7f7f\">:</span><a href=\"file://C:\\Users\\znman\\AppData\\Local\\Programs\\Python\\Python310\\lib\\warnings.py#109\" target=\"_blank\"><span style=\"color: #7f7f7f; text-decoration-color: #7f7f7f\">109</span></a>\n",
       "<span style=\"color: #7fbfbf; text-decoration-color: #7fbfbf\">                    </span>         tras\\datasets\\pandas\\csv_dataset.py:<span style=\"color: #008080; text-decoration-color: #008080; font-weight: bold\">160</span>: DtypeWarning: Columns         <span style=\"color: #7f7f7f; text-decoration-color: #7f7f7f\">               </span>\n",
       "<span style=\"color: #7fbfbf; text-decoration-color: #7fbfbf\">                    </span>         <span style=\"font-weight: bold\">(</span><span style=\"color: #008080; text-decoration-color: #008080; font-weight: bold\">8</span>,<span style=\"color: #008080; text-decoration-color: #008080; font-weight: bold\">12</span>,<span style=\"color: #008080; text-decoration-color: #008080; font-weight: bold\">13</span>,<span style=\"color: #008080; text-decoration-color: #008080; font-weight: bold\">14</span>,<span style=\"color: #008080; text-decoration-color: #008080; font-weight: bold\">15</span>,<span style=\"color: #008080; text-decoration-color: #008080; font-weight: bold\">16</span>,<span style=\"color: #008080; text-decoration-color: #008080; font-weight: bold\">50</span>,<span style=\"color: #008080; text-decoration-color: #008080; font-weight: bold\">51</span>,<span style=\"color: #008080; text-decoration-color: #008080; font-weight: bold\">52</span>,<span style=\"color: #008080; text-decoration-color: #008080; font-weight: bold\">53</span>,<span style=\"color: #008080; text-decoration-color: #008080; font-weight: bold\">55</span>,<span style=\"color: #008080; text-decoration-color: #008080; font-weight: bold\">56</span>,<span style=\"color: #008080; text-decoration-color: #008080; font-weight: bold\">57</span>,<span style=\"color: #008080; text-decoration-color: #008080; font-weight: bold\">58</span>,<span style=\"color: #008080; text-decoration-color: #008080; font-weight: bold\">59</span>,<span style=\"color: #008080; text-decoration-color: #008080; font-weight: bold\">60</span>,<span style=\"color: #008080; text-decoration-color: #008080; font-weight: bold\">61</span>,<span style=\"color: #008080; text-decoration-color: #008080; font-weight: bold\">62</span>,<span style=\"color: #008080; text-decoration-color: #008080; font-weight: bold\">63</span>,<span style=\"color: #008080; text-decoration-color: #008080; font-weight: bold\">64</span>,<span style=\"color: #008080; text-decoration-color: #008080; font-weight: bold\">65</span>,<span style=\"color: #008080; text-decoration-color: #008080; font-weight: bold\">66</span>,<span style=\"color: #008080; text-decoration-color: #008080; font-weight: bold\">67</span>,<span style=\"color: #008080; text-decoration-color: #008080; font-weight: bold\">6</span> <span style=\"color: #7f7f7f; text-decoration-color: #7f7f7f\">               </span>\n",
       "<span style=\"color: #7fbfbf; text-decoration-color: #7fbfbf\">                    </span>         <span style=\"color: #008080; text-decoration-color: #008080; font-weight: bold\">8</span>,<span style=\"color: #008080; text-decoration-color: #008080; font-weight: bold\">69</span>,<span style=\"color: #008080; text-decoration-color: #008080; font-weight: bold\">70</span>,<span style=\"color: #008080; text-decoration-color: #008080; font-weight: bold\">71</span>,<span style=\"color: #008080; text-decoration-color: #008080; font-weight: bold\">72</span>,<span style=\"color: #008080; text-decoration-color: #008080; font-weight: bold\">73</span>,<span style=\"color: #008080; text-decoration-color: #008080; font-weight: bold\">74</span>,<span style=\"color: #008080; text-decoration-color: #008080; font-weight: bold\">75</span>,<span style=\"color: #008080; text-decoration-color: #008080; font-weight: bold\">76</span>,<span style=\"color: #008080; text-decoration-color: #008080; font-weight: bold\">77</span>,<span style=\"color: #008080; text-decoration-color: #008080; font-weight: bold\">78</span>,<span style=\"color: #008080; text-decoration-color: #008080; font-weight: bold\">79</span>,<span style=\"color: #008080; text-decoration-color: #008080; font-weight: bold\">80</span>,<span style=\"color: #008080; text-decoration-color: #008080; font-weight: bold\">81</span>,<span style=\"color: #008080; text-decoration-color: #008080; font-weight: bold\">82</span>,<span style=\"color: #008080; text-decoration-color: #008080; font-weight: bold\">83</span>,<span style=\"color: #008080; text-decoration-color: #008080; font-weight: bold\">84</span>,<span style=\"color: #008080; text-decoration-color: #008080; font-weight: bold\">85</span>,<span style=\"color: #008080; text-decoration-color: #008080; font-weight: bold\">93</span>,<span style=\"color: #008080; text-decoration-color: #008080; font-weight: bold\">94</span>,<span style=\"color: #008080; text-decoration-color: #008080; font-weight: bold\">95</span>,<span style=\"color: #008080; text-decoration-color: #008080; font-weight: bold\">96</span>,<span style=\"color: #008080; text-decoration-color: #008080; font-weight: bold\">97</span>,<span style=\"color: #008080; text-decoration-color: #008080; font-weight: bold\">98</span> <span style=\"color: #7f7f7f; text-decoration-color: #7f7f7f\">               </span>\n",
       "<span style=\"color: #7fbfbf; text-decoration-color: #7fbfbf\">                    </span>         ,<span style=\"color: #008080; text-decoration-color: #008080; font-weight: bold\">99</span>,<span style=\"color: #008080; text-decoration-color: #008080; font-weight: bold\">100</span>,<span style=\"color: #008080; text-decoration-color: #008080; font-weight: bold\">101</span>,<span style=\"color: #008080; text-decoration-color: #008080; font-weight: bold\">102</span>,<span style=\"color: #008080; text-decoration-color: #008080; font-weight: bold\">103</span>,<span style=\"color: #008080; text-decoration-color: #008080; font-weight: bold\">104</span>,<span style=\"color: #008080; text-decoration-color: #008080; font-weight: bold\">105</span>,<span style=\"color: #008080; text-decoration-color: #008080; font-weight: bold\">106</span>,<span style=\"color: #008080; text-decoration-color: #008080; font-weight: bold\">107</span>,<span style=\"color: #008080; text-decoration-color: #008080; font-weight: bold\">108</span>,<span style=\"color: #008080; text-decoration-color: #008080; font-weight: bold\">109</span>,<span style=\"color: #008080; text-decoration-color: #008080; font-weight: bold\">110</span>,<span style=\"color: #008080; text-decoration-color: #008080; font-weight: bold\">111</span>,<span style=\"color: #008080; text-decoration-color: #008080; font-weight: bold\">112</span>,<span style=\"color: #008080; text-decoration-color: #008080; font-weight: bold\">113</span>,<span style=\"color: #008080; text-decoration-color: #008080; font-weight: bold\">114</span>,<span style=\"color: #008080; text-decoration-color: #008080; font-weight: bold\">115</span>,<span style=\"color: #008080; text-decoration-color: #008080; font-weight: bold\">11</span> <span style=\"color: #7f7f7f; text-decoration-color: #7f7f7f\">               </span>\n",
       "<span style=\"color: #7fbfbf; text-decoration-color: #7fbfbf\">                    </span>         <span style=\"color: #008080; text-decoration-color: #008080; font-weight: bold\">6</span>,<span style=\"color: #008080; text-decoration-color: #008080; font-weight: bold\">117</span>,<span style=\"color: #008080; text-decoration-color: #008080; font-weight: bold\">118</span>,<span style=\"color: #008080; text-decoration-color: #008080; font-weight: bold\">119</span>,<span style=\"color: #008080; text-decoration-color: #008080; font-weight: bold\">120</span>,<span style=\"color: #008080; text-decoration-color: #008080; font-weight: bold\">121</span>,<span style=\"color: #008080; text-decoration-color: #008080; font-weight: bold\">122</span>,<span style=\"color: #008080; text-decoration-color: #008080; font-weight: bold\">123</span>,<span style=\"color: #008080; text-decoration-color: #008080; font-weight: bold\">124</span>,<span style=\"color: #008080; text-decoration-color: #008080; font-weight: bold\">125</span>,<span style=\"color: #008080; text-decoration-color: #008080; font-weight: bold\">126</span>,<span style=\"color: #008080; text-decoration-color: #008080; font-weight: bold\">127</span>,<span style=\"color: #008080; text-decoration-color: #008080; font-weight: bold\">128</span><span style=\"font-weight: bold\">)</span> have mixed types.   <span style=\"color: #7f7f7f; text-decoration-color: #7f7f7f\">               </span>\n",
       "<span style=\"color: #7fbfbf; text-decoration-color: #7fbfbf\">                    </span>         Specify dtype option on import or set <span style=\"color: #808000; text-decoration-color: #808000\">low_memory</span>=<span style=\"color: #ff0000; text-decoration-color: #ff0000; font-style: italic\">False</span>.                <span style=\"color: #7f7f7f; text-decoration-color: #7f7f7f\">               </span>\n",
       "<span style=\"color: #7fbfbf; text-decoration-color: #7fbfbf\">                    </span>           return <span style=\"color: #800080; text-decoration-color: #800080; font-weight: bold\">pd.read_csv</span><span style=\"font-weight: bold\">(</span>load_path, **self._load_args<span style=\"font-weight: bold\">)</span>                     <span style=\"color: #7f7f7f; text-decoration-color: #7f7f7f\">               </span>\n",
       "<span style=\"color: #7fbfbf; text-decoration-color: #7fbfbf\">                    </span>                                                                                <span style=\"color: #7f7f7f; text-decoration-color: #7f7f7f\">               </span>\n",
       "</pre>\n"
      ],
      "text/plain": [
       "\u001b[2;36m[09/09/22 05:46:50]\u001b[0m\u001b[2;36m \u001b[0m\u001b[31mWARNING \u001b[0m C:\\Users\\znman\\Desktop\\Projects\\sof_sa\\venv\\lib\\site-packages\\kedro\\ex \u001b]8;id=867349;file://C:\\Users\\znman\\AppData\\Local\\Programs\\Python\\Python310\\lib\\warnings.py\u001b\\\u001b[2mwarnings.py\u001b[0m\u001b]8;;\u001b\\\u001b[2m:\u001b[0m\u001b]8;id=628273;file://C:\\Users\\znman\\AppData\\Local\\Programs\\Python\\Python310\\lib\\warnings.py#109\u001b\\\u001b[2m109\u001b[0m\u001b]8;;\u001b\\\n",
       "\u001b[2;36m                    \u001b[0m         tras\\datasets\\pandas\\csv_dataset.py:\u001b[1;36m160\u001b[0m: DtypeWarning: Columns         \u001b[2m               \u001b[0m\n",
       "\u001b[2;36m                    \u001b[0m         \u001b[1m(\u001b[0m\u001b[1;36m8\u001b[0m,\u001b[1;36m12\u001b[0m,\u001b[1;36m13\u001b[0m,\u001b[1;36m14\u001b[0m,\u001b[1;36m15\u001b[0m,\u001b[1;36m16\u001b[0m,\u001b[1;36m50\u001b[0m,\u001b[1;36m51\u001b[0m,\u001b[1;36m52\u001b[0m,\u001b[1;36m53\u001b[0m,\u001b[1;36m55\u001b[0m,\u001b[1;36m56\u001b[0m,\u001b[1;36m57\u001b[0m,\u001b[1;36m58\u001b[0m,\u001b[1;36m59\u001b[0m,\u001b[1;36m60\u001b[0m,\u001b[1;36m61\u001b[0m,\u001b[1;36m62\u001b[0m,\u001b[1;36m63\u001b[0m,\u001b[1;36m64\u001b[0m,\u001b[1;36m65\u001b[0m,\u001b[1;36m66\u001b[0m,\u001b[1;36m67\u001b[0m,\u001b[1;36m6\u001b[0m \u001b[2m               \u001b[0m\n",
       "\u001b[2;36m                    \u001b[0m         \u001b[1;36m8\u001b[0m,\u001b[1;36m69\u001b[0m,\u001b[1;36m70\u001b[0m,\u001b[1;36m71\u001b[0m,\u001b[1;36m72\u001b[0m,\u001b[1;36m73\u001b[0m,\u001b[1;36m74\u001b[0m,\u001b[1;36m75\u001b[0m,\u001b[1;36m76\u001b[0m,\u001b[1;36m77\u001b[0m,\u001b[1;36m78\u001b[0m,\u001b[1;36m79\u001b[0m,\u001b[1;36m80\u001b[0m,\u001b[1;36m81\u001b[0m,\u001b[1;36m82\u001b[0m,\u001b[1;36m83\u001b[0m,\u001b[1;36m84\u001b[0m,\u001b[1;36m85\u001b[0m,\u001b[1;36m93\u001b[0m,\u001b[1;36m94\u001b[0m,\u001b[1;36m95\u001b[0m,\u001b[1;36m96\u001b[0m,\u001b[1;36m97\u001b[0m,\u001b[1;36m98\u001b[0m \u001b[2m               \u001b[0m\n",
       "\u001b[2;36m                    \u001b[0m         ,\u001b[1;36m99\u001b[0m,\u001b[1;36m100\u001b[0m,\u001b[1;36m101\u001b[0m,\u001b[1;36m102\u001b[0m,\u001b[1;36m103\u001b[0m,\u001b[1;36m104\u001b[0m,\u001b[1;36m105\u001b[0m,\u001b[1;36m106\u001b[0m,\u001b[1;36m107\u001b[0m,\u001b[1;36m108\u001b[0m,\u001b[1;36m109\u001b[0m,\u001b[1;36m110\u001b[0m,\u001b[1;36m111\u001b[0m,\u001b[1;36m112\u001b[0m,\u001b[1;36m113\u001b[0m,\u001b[1;36m114\u001b[0m,\u001b[1;36m115\u001b[0m,\u001b[1;36m11\u001b[0m \u001b[2m               \u001b[0m\n",
       "\u001b[2;36m                    \u001b[0m         \u001b[1;36m6\u001b[0m,\u001b[1;36m117\u001b[0m,\u001b[1;36m118\u001b[0m,\u001b[1;36m119\u001b[0m,\u001b[1;36m120\u001b[0m,\u001b[1;36m121\u001b[0m,\u001b[1;36m122\u001b[0m,\u001b[1;36m123\u001b[0m,\u001b[1;36m124\u001b[0m,\u001b[1;36m125\u001b[0m,\u001b[1;36m126\u001b[0m,\u001b[1;36m127\u001b[0m,\u001b[1;36m128\u001b[0m\u001b[1m)\u001b[0m have mixed types.   \u001b[2m               \u001b[0m\n",
       "\u001b[2;36m                    \u001b[0m         Specify dtype option on import or set \u001b[33mlow_memory\u001b[0m=\u001b[3;91mFalse\u001b[0m.                \u001b[2m               \u001b[0m\n",
       "\u001b[2;36m                    \u001b[0m           return \u001b[1;35mpd.read_csv\u001b[0m\u001b[1m(\u001b[0mload_path, **self._load_args\u001b[1m)\u001b[0m                     \u001b[2m               \u001b[0m\n",
       "\u001b[2;36m                    \u001b[0m                                                                                \u001b[2m               \u001b[0m\n"
      ]
     },
     "metadata": {},
     "output_type": "display_data"
    }
   ],
   "source": [
    "# Loading in data using kedro's catalog attribute\n",
    "# See https://kedro.readthedocs.io/en/stable/tools_integration/ipython.html for more details\n",
    "\n",
    "df2018 = catalog.load('2018_dataset')\n",
    "df2019 = catalog.load('2019_dataset')\n",
    "df2020 = catalog.load('2020_dataset')\n",
    "df2021 = catalog.load('2021_dataset')"
   ]
  },
  {
   "cell_type": "markdown",
   "metadata": {},
   "source": [
    "## Transforming the data"
   ]
  },
  {
   "cell_type": "code",
   "execution_count": null,
   "metadata": {},
   "outputs": [],
   "source": [
    "dataframes = [df2018, df2019, df2020, df2021]\n",
    "[print(f\"{df['year'].iloc[0]} dataset has {df.shape[0]} rows and {df.shape[1]} cloumns.\") for df in dataframes]"
   ]
  },
  {
   "cell_type": "code",
   "execution_count": null,
   "metadata": {},
   "outputs": [],
   "source": [
    "from collections import Counter\n",
    "\n",
    "def count_unique_items_in_column(df: pd.DataFrame, column_name: str) -> pd.DataFrame:\n",
    "    \"\"\"Counts unique elements in dataframe column. Column must have semicolon separated values or nan values in column\n",
    "\n",
    "    Args:\n",
    "        df (pd.DataFrame): dataframe to be modified\n",
    "        column_name (str): column name in dataframe\n",
    "\n",
    "    Returns:\n",
    "        pd.DataFrame: new dataframe contain value and count of value in df\n",
    "    \n",
    "    Raises:\n",
    "        ValueError: if the column passed does not exist in dataframe\n",
    "    \"\"\"\n",
    "    if column_name not in df.columns:\n",
    "        raise ValueError(f\"No column named {column_name} in dataframe.\")\n",
    "\n",
    "    column_as_list = df[column_name].tolist()\n",
    "\n",
    "    new_list = []\n",
    "    for list_item in column_as_list: \n",
    "\n",
    "        # for nan values\n",
    "        if isinstance(list_item, type(None)):\n",
    "            new_list.append(list_item)\n",
    "\n",
    "        if isinstance(list_item, str): \n",
    "            new_list.extend(list_item.split(\";\"))\n",
    "\n",
    "    # find the number of occurances of a item in a list\n",
    "    occ = Counter(new_list)\n",
    "    language = []\n",
    "    count = []\n",
    "    for x in occ:\n",
    "        key = x\n",
    "        value = occ[key]\n",
    "        language.append(key)\n",
    "        count.append(value)\n",
    "\n",
    "    df_temp = pd.DataFrame(list(zip(language, count)), columns = [column_name, 'count'])\n",
    "    df_temp.set_index(column_name, inplace=True)\n",
    "    df_temp.sort_values(by='count', ascending=False, inplace=True)\n",
    "    return df_temp\n",
    "\n",
    "\n",
    "def _merge(dataframe_list: list) -> pd.DataFrame:\n",
    "    \"\"\"Merges dataframes on index\n",
    "\n",
    "    Args:\n",
    "        dataframe_list (list): a list of dataframes to merge\n",
    "\n",
    "    Returns:\n",
    "        pd.DataFrame: merged dataframe\n",
    "        \n",
    "    Raises:\n",
    "        ValueError: if the list of dataframes passed is not equal to four\n",
    "    \"\"\"\n",
    "    if len(dataframe_list) != 4:\n",
    "        raise ValueError(\"List of dataframes must be equal to four(4)\")\n",
    "        \n",
    "    df18_19 = pd.merge(dataframe_list[0], dataframe_list[1], left_index=True, right_index=True)\n",
    "    df20_21 = pd.merge(dataframe_list[2], dataframe_list[3], left_index=True, right_index=True)\n",
    "    dfs_merged = pd.merge(df18_19, df20_21, left_index=True, right_index=True)\n",
    "    dfs_merged.columns = ['2018', '2019', '2020', '2021']\n",
    "    \n",
    "    return dfs_merged"
   ]
  },
  {
   "cell_type": "code",
   "execution_count": null,
   "metadata": {},
   "outputs": [],
   "source": [
    "def display_index_values(df_list: list, column_name: str):\n",
    "    for i in df_list:\n",
    "        df_temp = count_unique_items_in_column(i, column_name)\n",
    "        yield df_temp.index.values\n",
    "        \n",
    "j = display_index_values(dataframes, 'web_frameworks')\n",
    "\n",
    "for i in j:\n",
    "    print(i)"
   ]
  },
  {
   "cell_type": "code",
   "execution_count": null,
   "metadata": {},
   "outputs": [],
   "source": [
    "# Web Frameworks\n",
    "# rename React in 2018 dataset to React.js\n",
    "# rename 'Angular' in 2018 dataset to Angular.js\n",
    "# rename 'Angular/Angular.js' to Angular.js in 2019 dataset\n",
    "# add ASP.NET to 2018 dataset and set it to zero\n",
    "# add jQuery to 2018 dataset and set it to zero\n",
    "# add Vue.js to 2018 dataset and set it to zero\n",
    "# add Flask to 2018 dataset and set it to zero\n",
    "# add Laravel to 2018 dataset and set it to zero\n",
    "# add Express to 2018 dataset and set it to zero\n",
    "# add Ruby on Rails to 2018 dataset and set it to zero\n",
    "# add Drupal on Rails to 2018 dataset and set it to zero\n",
    "df18 = count_unique_items_in_column(df2018, 'web_frameworks').rename(index={'React': 'React.js', 'Angular': 'Angular.js', 'Angular/Angular.js': 'Angular.js'})\n",
    "for i in ['ASP.NET', 'jQuery', 'Vue.js', 'Flask', 'Laravel',  'Express', 'Ruby on Rails', 'Drupal']:\n",
    "    if i not in df18.index.values:\n",
    "        df18.loc[i] = 0\n",
    "df19 = count_unique_items_in_column(df2019, 'web_frameworks')\n",
    "df20 = count_unique_items_in_column(df2020, 'web_frameworks')\n",
    "df21 = count_unique_items_in_column(df2021, 'web_frameworks')\n",
    "\n",
    "l = [df18, df19, df20, df21]\n",
    "web_frameworks = _merge(l)"
   ]
  },
  {
   "cell_type": "code",
   "execution_count": null,
   "metadata": {},
   "outputs": [],
   "source": [
    "j = display_index_values(dataframes, 'platforms')\n",
    "\n",
    "for i in j:\n",
    "    print(i)"
   ]
  },
  {
   "cell_type": "code",
   "execution_count": null,
   "metadata": {},
   "outputs": [],
   "source": [
    "# Platforms\n",
    "# Only dealing with cloud platforms : AWS Microsoft Azure Heroku  Google Cloud Platform\t IBM Cloud or Watson\n",
    "# change 'Google Cloud Platform/App Engine' to 'Google Cloud Platform'\n",
    "# change 'Azure' in 2018 dataset to 'Microsoft Azure'\n",
    "df18 = count_unique_items_in_column(df2018, 'platforms').rename(index={'Google Cloud Platform/App Engine': 'Google Cloud Platform', 'Azure': 'Microsoft Azure'})\n",
    "df19 = count_unique_items_in_column(df2019, 'platforms')\n",
    "df20 = count_unique_items_in_column(df2020, 'platforms')\n",
    "df21 = count_unique_items_in_column(df2021, 'platforms')\n",
    "\n",
    "l = [df18, df19, df20, df21]\n",
    "platforms = _merge(l)"
   ]
  },
  {
   "cell_type": "code",
   "execution_count": null,
   "metadata": {},
   "outputs": [],
   "source": [
    "j = display_index_values(dataframes, 'languages')\n",
    "\n",
    "for i in j:\n",
    "    print(i)"
   ]
  },
  {
   "cell_type": "code",
   "execution_count": null,
   "metadata": {},
   "outputs": [],
   "source": [
    "# Languages\n",
    "df18 = count_unique_items_in_column(df2018, 'languages')\n",
    "df19 = count_unique_items_in_column(df2019, 'languages')\n",
    "df20 = count_unique_items_in_column(df2020, 'languages')\n",
    "df21 = count_unique_items_in_column(df2021, 'languages')\n",
    "l = [df18, df19, df20, df21]\n",
    "\n",
    "languages = _merge(l)"
   ]
  },
  {
   "cell_type": "code",
   "execution_count": null,
   "metadata": {},
   "outputs": [],
   "source": [
    "j = display_index_values(dataframes, 'databases')\n",
    "\n",
    "for i in j:\n",
    "    print(i)"
   ]
  },
  {
   "cell_type": "code",
   "execution_count": null,
   "metadata": {},
   "outputs": [],
   "source": [
    "# Databases\n",
    "df18 = count_unique_items_in_column(df2018, 'databases').rename(index={'SQL Server': 'Microsoft SQL Server', 'IBM Db2': 'IBM DB2', 'Amazon DynamoDB': 'DynamoDB'})\n",
    "for i in ['Cassandra', 'Couchbase', 'Firebase']:\n",
    "    if i not in df18.index.values:\n",
    "        df18.loc[i] = 0\n",
    "df19 = count_unique_items_in_column(df2019, 'databases')\n",
    "df20 = count_unique_items_in_column(df2020, 'databases')\n",
    "df21 = count_unique_items_in_column(df2021, 'databases')\n",
    "l = [df18, df19, df20, df21]\n",
    "\n",
    "databases = _merge(l)\n"
   ]
  }
 ],
 "metadata": {
  "kernelspec": {
   "display_name": "Python 3.10.2 ('venv': venv)",
   "language": "python",
   "name": "python3"
  },
  "language_info": {
   "codemirror_mode": {
    "name": "ipython",
    "version": 3
   },
   "file_extension": ".py",
   "mimetype": "text/x-python",
   "name": "python",
   "nbconvert_exporter": "python",
   "pygments_lexer": "ipython3",
   "version": "3.10.2"
  },
  "vscode": {
   "interpreter": {
    "hash": "28aaa51324a8b83b0e1114aa3e709953fef62500c2d77cbc42898e3a29750585"
   }
  }
 },
 "nbformat": 4,
 "nbformat_minor": 2
}
