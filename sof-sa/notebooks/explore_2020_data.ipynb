{
 "cells": [
  {
   "cell_type": "code",
   "execution_count": null,
   "metadata": {},
   "outputs": [],
   "source": [
    "df2020 = catalog.load('raw_stackoverflow2020')\n"
   ]
  }
 ],
 "metadata": {
  "kernelspec": {
   "display_name": "Python 3.10.2 ('venv': venv)",
   "language": "python",
   "name": "python3"
  },
  "language_info": {
   "name": "python",
   "version": "3.10.2"
  },
  "orig_nbformat": 4,
  "vscode": {
   "interpreter": {
    "hash": "28aaa51324a8b83b0e1114aa3e709953fef62500c2d77cbc42898e3a29750585"
   }
  }
 },
 "nbformat": 4,
 "nbformat_minor": 2
}
