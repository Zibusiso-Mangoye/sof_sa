{
 "cells": [
  {
   "cell_type": "markdown",
   "metadata": {},
   "source": [
    "### Performing exploratory data analysis on data from the StakeOverFlow developer survey from the years 2018 to 2021"
   ]
  },
  {
   "cell_type": "markdown",
   "metadata": {},
   "source": [
    "##### Table of Contents\n",
    "\n",
    "Phase 1 : Extracting the data\n",
    "- Exploring the data\n",
    "- Data Modelling\n",
    "        \n",
    "Phase 2 : Transforming the data\n",
    "- Cleaning the data\n",
    "- Merging dataframes\n",
    "- Cleaning the new dataframe\n",
    "\n",
    "Phase 3 : Loading the data\n",
    "- Loading in the data into a database"
   ]
  },
  {
   "cell_type": "markdown",
   "metadata": {},
   "source": [
    "#### Extracting the data"
   ]
  },
  {
   "cell_type": "markdown",
   "metadata": {},
   "source": [
    "\n",
    "While writing this notebook, the data was stored locally in my computer therefore to follow along with this note book you will need to download the data from here : https://insights.stackoverflow.com/survey/\n",
    "\n"
   ]
  },
  {
   "cell_type": "code",
   "execution_count": 2,
   "metadata": {},
   "outputs": [],
   "source": [
    "import pandas as pd\n",
    "import numpy as np\n",
    "\n",
    "#setting the maximum display for the notebook cells \n",
    "pd.set_option('display.max_rows', 48)\n",
    "pd.set_option('display.max_columns', 48)\n",
    "\n",
    "#removing warnings \n",
    "pd.options.mode.chained_assignment = None  # default='warn'"
   ]
  },
  {
   "cell_type": "markdown",
   "metadata": {},
   "source": [
    "##### Observation - *The number of survey participants has been decreasing from 2018 to 2020 even though the survey length is becoming shorter. Except for the year 2021 which has seen an increase in survey participant and decreasing survey length. Since the 2021 dataset has fewer columns, it is the primary dataset and a subsest of the other datasets will be taken in order to answer the following questions:*\n",
    "\n",
    "#### Question 1. *How much impact has the pandemic had on developer's choices of tech stack?*\n",
    "This is question is broken down to three parts namely:\n",
    "\n",
    "##### Question 1.1 Which programming languages have gained popularity from 2018 to 2021?\n",
    "columns needed : ResponseId, LanguageHaveWorkedWith, LanguageWantToWorkWith\n",
    "\n",
    "##### Question 1.2 Which database services have gained popularity from 2018 to 2021?\n",
    "columns needed : ResponseId, DatabaseHaveWorkedWith, DatabaseWantToWorkWith\n",
    "\n",
    "##### Question 1.3 Which platforms and frameworks have gained popularity from 2018 to 2021?\n",
    "columns needed : ResponseId, WebframeHaveWorkedWith, WebframeWantToWorkWith, MiscTechHaveWorkedWith,    MiscTechWantToWorkWith, PlatformHaveWorkedWith, PlatformWantToWorkWith\n",
    "\n",
    "#### Question 2. *How has the distribution of gender and age in the developer community changed from 2018 to 2021?*\n",
    "columns needed : ResponseId, Age, Gender"
   ]
  },
  {
   "cell_type": "code",
   "execution_count": 3,
   "metadata": {},
   "outputs": [],
   "source": [
    "import json\n",
    "import logging\n",
    "from sqlalchemy import create_engine \n",
    "\n",
    "def get_credentials(filepath : str) -> dict:\n",
    "    \"\"\"Loads database credentials from file.\n",
    "    Args: \n",
    "        filepath - path to the json file\n",
    "\n",
    "    Returns :\n",
    "        A dictionary containing database credentials\n",
    "    \"\"\"\n",
    "    with open(filepath, \"r\") as file:\n",
    "        data = json.loads(file.read())\n",
    "   \n",
    "    return data\n",
    "credentials = get_credentials(\"..\\sof_sa\\conf\\staging_db_credentials.json\")\n",
    "\n",
    "# TO DO: EXPORT TO UTILITY FUNCTIONS\n",
    "def execute_sql(path_to_sql_file: str, credentials: dict) -> pd.DataFrame:\n",
    "    \"\"\"Executes an sql query \n",
    "\n",
    "    Args:\n",
    "        path_to_sql_file (str): path to the sql file that contains the sql statement to execute.\n",
    "        credentials (dict): credentials to the database where the query will be executed \n",
    "\n",
    "    Returns:\n",
    "        pd.DataFrame: a pandas dataframe representing the results of the query\n",
    "    \"\"\"\n",
    "    try:\n",
    "        DATABASE_URL = f'postgresql+psycopg2://{credentials[\"user\"]}:{credentials[\"password\"]}@{credentials[\"host\"]}:{credentials[\"port\"]}/{credentials[\"database\"]}'\n",
    "        engine = create_engine(DATABASE_URL, pool_pre_ping=True)\n",
    "\n",
    "        with open(path_to_sql_file, 'r') as file, engine.connect() as connection:\n",
    "            df = pd.read_sql_query(file.read(), connection)\n",
    "            return df\n",
    "    except Exception as e:\n",
    "        logging.error(e)\n",
    "    \n",
    "df2018 = execute_sql(\"..\\sof_sa\\SQL\\select_2018_data.sql\", credentials)\n",
    "df2019 = execute_sql(\"..\\sof_sa\\SQL\\select_2019_data.sql\", credentials)\n",
    "df2020 = execute_sql(\"..\\sof_sa\\SQL\\select_2020_data.sql\", credentials)\n",
    "df2021 = execute_sql(\"..\\sof_sa\\SQL\\select_2021_data.sql\", credentials)"
   ]
  },
  {
   "cell_type": "markdown",
   "metadata": {},
   "source": [
    "##### Exploring the data"
   ]
  },
  {
   "cell_type": "code",
   "execution_count": 4,
   "metadata": {},
   "outputs": [
    {
     "name": "stdout",
     "output_type": "stream",
     "text": [
      "df2018 has shape : (98855, 12)\n",
      "df2019 has shape : (88883, 12)\n",
      "df2020 has shape : (64461, 12)\n",
      "df2021 has shape : (83439, 12)\n"
     ]
    }
   ],
   "source": [
    "# The size of the different datasets\n",
    "print(f\"df2018 has shape : {df2018.shape}\")\n",
    "print(f\"df2019 has shape : {df2019.shape}\")\n",
    "print(f\"df2020 has shape : {df2020.shape}\")\n",
    "print(f\"df2021 has shape : {df2021.shape}\")"
   ]
  },
  {
   "cell_type": "markdown",
   "metadata": {},
   "source": [
    "#### Data Modelling"
   ]
  },
  {
   "cell_type": "markdown",
   "metadata": {},
   "source": [
    "![Data Model](../img/model.jpg)"
   ]
  },
  {
   "cell_type": "markdown",
   "metadata": {},
   "source": [
    "#### Transforming the data"
   ]
  },
  {
   "cell_type": "markdown",
   "metadata": {},
   "source": [
    "*Before creating tables, all the datasets are joined to create one dataframe that can then be subdivided into tables. The question of which web framework the respondents used or would like to use was not asked in 2018, so framework in general will be used.*"
   ]
  },
  {
   "cell_type": "markdown",
   "metadata": {},
   "source": [
    "*Inspecting each column and cleaning it if necessary*"
   ]
  },
  {
   "cell_type": "code",
   "execution_count": 23,
   "metadata": {},
   "outputs": [
    {
     "name": "stdout",
     "output_type": "stream",
     "text": [
      "98855\n",
      "98855\n",
      "88883\n",
      "88883\n",
      "64461\n",
      "64461\n",
      "83439\n",
      "83439\n"
     ]
    },
    {
     "ename": "ValueError",
     "evalue": "cannot convert float NaN to integer",
     "output_type": "error",
     "traceback": [
      "\u001b[1;31m---------------------------------------------------------------------------\u001b[0m",
      "\u001b[1;31mValueError\u001b[0m                                Traceback (most recent call last)",
      "\u001b[1;32mc:\\Users\\znman\\Desktop\\Projects\\sof_sa\\notebooks\\exploration.ipynb Cell 15'\u001b[0m in \u001b[0;36m<cell line: 91>\u001b[1;34m()\u001b[0m\n\u001b[0;32m     <a href='vscode-notebook-cell:/c%3A/Users/znman/Desktop/Projects/sof_sa/notebooks/exploration.ipynb#ch0000017?line=87'>88</a>\u001b[0m replace_na_with_mean(df2021, \u001b[39m'\u001b[39m\u001b[39mage\u001b[39m\u001b[39m'\u001b[39m)\n\u001b[0;32m     <a href='vscode-notebook-cell:/c%3A/Users/znman/Desktop/Projects/sof_sa/notebooks/exploration.ipynb#ch0000017?line=89'>90</a>\u001b[0m \u001b[39m# clean the age column\u001b[39;00m\n\u001b[1;32m---> <a href='vscode-notebook-cell:/c%3A/Users/znman/Desktop/Projects/sof_sa/notebooks/exploration.ipynb#ch0000017?line=90'>91</a>\u001b[0m df2018[\u001b[39m'\u001b[39;49m\u001b[39mage\u001b[39;49m\u001b[39m'\u001b[39;49m]\u001b[39m.\u001b[39;49mapply(clean_age_column)\n\u001b[0;32m     <a href='vscode-notebook-cell:/c%3A/Users/znman/Desktop/Projects/sof_sa/notebooks/exploration.ipynb#ch0000017?line=91'>92</a>\u001b[0m df2019[\u001b[39m'\u001b[39m\u001b[39mage\u001b[39m\u001b[39m'\u001b[39m]\u001b[39m.\u001b[39mapply(clean_age_column)\n\u001b[0;32m     <a href='vscode-notebook-cell:/c%3A/Users/znman/Desktop/Projects/sof_sa/notebooks/exploration.ipynb#ch0000017?line=92'>93</a>\u001b[0m df2020[\u001b[39m'\u001b[39m\u001b[39mage\u001b[39m\u001b[39m'\u001b[39m]\u001b[39m.\u001b[39mapply(clean_age_column)\n",
      "File \u001b[1;32m~\\AppData\\Local\\Programs\\Python\\Python310\\lib\\site-packages\\pandas\\core\\series.py:4433\u001b[0m, in \u001b[0;36mSeries.apply\u001b[1;34m(self, func, convert_dtype, args, **kwargs)\u001b[0m\n\u001b[0;32m   <a href='file:///c%3A/Users/znman/AppData/Local/Programs/Python/Python310/lib/site-packages/pandas/core/series.py?line=4322'>4323</a>\u001b[0m \u001b[39mdef\u001b[39;00m \u001b[39mapply\u001b[39m(\n\u001b[0;32m   <a href='file:///c%3A/Users/znman/AppData/Local/Programs/Python/Python310/lib/site-packages/pandas/core/series.py?line=4323'>4324</a>\u001b[0m     \u001b[39mself\u001b[39m,\n\u001b[0;32m   <a href='file:///c%3A/Users/znman/AppData/Local/Programs/Python/Python310/lib/site-packages/pandas/core/series.py?line=4324'>4325</a>\u001b[0m     func: AggFuncType,\n\u001b[1;32m   (...)\u001b[0m\n\u001b[0;32m   <a href='file:///c%3A/Users/znman/AppData/Local/Programs/Python/Python310/lib/site-packages/pandas/core/series.py?line=4327'>4328</a>\u001b[0m     \u001b[39m*\u001b[39m\u001b[39m*\u001b[39mkwargs,\n\u001b[0;32m   <a href='file:///c%3A/Users/znman/AppData/Local/Programs/Python/Python310/lib/site-packages/pandas/core/series.py?line=4328'>4329</a>\u001b[0m ) \u001b[39m-\u001b[39m\u001b[39m>\u001b[39m DataFrame \u001b[39m|\u001b[39m Series:\n\u001b[0;32m   <a href='file:///c%3A/Users/znman/AppData/Local/Programs/Python/Python310/lib/site-packages/pandas/core/series.py?line=4329'>4330</a>\u001b[0m     \u001b[39m\"\"\"\u001b[39;00m\n\u001b[0;32m   <a href='file:///c%3A/Users/znman/AppData/Local/Programs/Python/Python310/lib/site-packages/pandas/core/series.py?line=4330'>4331</a>\u001b[0m \u001b[39m    Invoke function on values of Series.\u001b[39;00m\n\u001b[0;32m   <a href='file:///c%3A/Users/znman/AppData/Local/Programs/Python/Python310/lib/site-packages/pandas/core/series.py?line=4331'>4332</a>\u001b[0m \n\u001b[1;32m   (...)\u001b[0m\n\u001b[0;32m   <a href='file:///c%3A/Users/znman/AppData/Local/Programs/Python/Python310/lib/site-packages/pandas/core/series.py?line=4430'>4431</a>\u001b[0m \u001b[39m    dtype: float64\u001b[39;00m\n\u001b[0;32m   <a href='file:///c%3A/Users/znman/AppData/Local/Programs/Python/Python310/lib/site-packages/pandas/core/series.py?line=4431'>4432</a>\u001b[0m \u001b[39m    \"\"\"\u001b[39;00m\n\u001b[1;32m-> <a href='file:///c%3A/Users/znman/AppData/Local/Programs/Python/Python310/lib/site-packages/pandas/core/series.py?line=4432'>4433</a>\u001b[0m     \u001b[39mreturn\u001b[39;00m SeriesApply(\u001b[39mself\u001b[39;49m, func, convert_dtype, args, kwargs)\u001b[39m.\u001b[39;49mapply()\n",
      "File \u001b[1;32m~\\AppData\\Local\\Programs\\Python\\Python310\\lib\\site-packages\\pandas\\core\\apply.py:1082\u001b[0m, in \u001b[0;36mSeriesApply.apply\u001b[1;34m(self)\u001b[0m\n\u001b[0;32m   <a href='file:///c%3A/Users/znman/AppData/Local/Programs/Python/Python310/lib/site-packages/pandas/core/apply.py?line=1077'>1078</a>\u001b[0m \u001b[39mif\u001b[39;00m \u001b[39misinstance\u001b[39m(\u001b[39mself\u001b[39m\u001b[39m.\u001b[39mf, \u001b[39mstr\u001b[39m):\n\u001b[0;32m   <a href='file:///c%3A/Users/znman/AppData/Local/Programs/Python/Python310/lib/site-packages/pandas/core/apply.py?line=1078'>1079</a>\u001b[0m     \u001b[39m# if we are a string, try to dispatch\u001b[39;00m\n\u001b[0;32m   <a href='file:///c%3A/Users/znman/AppData/Local/Programs/Python/Python310/lib/site-packages/pandas/core/apply.py?line=1079'>1080</a>\u001b[0m     \u001b[39mreturn\u001b[39;00m \u001b[39mself\u001b[39m\u001b[39m.\u001b[39mapply_str()\n\u001b[1;32m-> <a href='file:///c%3A/Users/znman/AppData/Local/Programs/Python/Python310/lib/site-packages/pandas/core/apply.py?line=1081'>1082</a>\u001b[0m \u001b[39mreturn\u001b[39;00m \u001b[39mself\u001b[39;49m\u001b[39m.\u001b[39;49mapply_standard()\n",
      "File \u001b[1;32m~\\AppData\\Local\\Programs\\Python\\Python310\\lib\\site-packages\\pandas\\core\\apply.py:1137\u001b[0m, in \u001b[0;36mSeriesApply.apply_standard\u001b[1;34m(self)\u001b[0m\n\u001b[0;32m   <a href='file:///c%3A/Users/znman/AppData/Local/Programs/Python/Python310/lib/site-packages/pandas/core/apply.py?line=1130'>1131</a>\u001b[0m         values \u001b[39m=\u001b[39m obj\u001b[39m.\u001b[39mastype(\u001b[39mobject\u001b[39m)\u001b[39m.\u001b[39m_values\n\u001b[0;32m   <a href='file:///c%3A/Users/znman/AppData/Local/Programs/Python/Python310/lib/site-packages/pandas/core/apply.py?line=1131'>1132</a>\u001b[0m         \u001b[39m# error: Argument 2 to \"map_infer\" has incompatible type\u001b[39;00m\n\u001b[0;32m   <a href='file:///c%3A/Users/znman/AppData/Local/Programs/Python/Python310/lib/site-packages/pandas/core/apply.py?line=1132'>1133</a>\u001b[0m         \u001b[39m# \"Union[Callable[..., Any], str, List[Union[Callable[..., Any], str]],\u001b[39;00m\n\u001b[0;32m   <a href='file:///c%3A/Users/znman/AppData/Local/Programs/Python/Python310/lib/site-packages/pandas/core/apply.py?line=1133'>1134</a>\u001b[0m         \u001b[39m# Dict[Hashable, Union[Union[Callable[..., Any], str],\u001b[39;00m\n\u001b[0;32m   <a href='file:///c%3A/Users/znman/AppData/Local/Programs/Python/Python310/lib/site-packages/pandas/core/apply.py?line=1134'>1135</a>\u001b[0m         \u001b[39m# List[Union[Callable[..., Any], str]]]]]\"; expected\u001b[39;00m\n\u001b[0;32m   <a href='file:///c%3A/Users/znman/AppData/Local/Programs/Python/Python310/lib/site-packages/pandas/core/apply.py?line=1135'>1136</a>\u001b[0m         \u001b[39m# \"Callable[[Any], Any]\"\u001b[39;00m\n\u001b[1;32m-> <a href='file:///c%3A/Users/znman/AppData/Local/Programs/Python/Python310/lib/site-packages/pandas/core/apply.py?line=1136'>1137</a>\u001b[0m         mapped \u001b[39m=\u001b[39m lib\u001b[39m.\u001b[39;49mmap_infer(\n\u001b[0;32m   <a href='file:///c%3A/Users/znman/AppData/Local/Programs/Python/Python310/lib/site-packages/pandas/core/apply.py?line=1137'>1138</a>\u001b[0m             values,\n\u001b[0;32m   <a href='file:///c%3A/Users/znman/AppData/Local/Programs/Python/Python310/lib/site-packages/pandas/core/apply.py?line=1138'>1139</a>\u001b[0m             f,  \u001b[39m# type: ignore[arg-type]\u001b[39;49;00m\n\u001b[0;32m   <a href='file:///c%3A/Users/znman/AppData/Local/Programs/Python/Python310/lib/site-packages/pandas/core/apply.py?line=1139'>1140</a>\u001b[0m             convert\u001b[39m=\u001b[39;49m\u001b[39mself\u001b[39;49m\u001b[39m.\u001b[39;49mconvert_dtype,\n\u001b[0;32m   <a href='file:///c%3A/Users/znman/AppData/Local/Programs/Python/Python310/lib/site-packages/pandas/core/apply.py?line=1140'>1141</a>\u001b[0m         )\n\u001b[0;32m   <a href='file:///c%3A/Users/znman/AppData/Local/Programs/Python/Python310/lib/site-packages/pandas/core/apply.py?line=1142'>1143</a>\u001b[0m \u001b[39mif\u001b[39;00m \u001b[39mlen\u001b[39m(mapped) \u001b[39mand\u001b[39;00m \u001b[39misinstance\u001b[39m(mapped[\u001b[39m0\u001b[39m], ABCSeries):\n\u001b[0;32m   <a href='file:///c%3A/Users/znman/AppData/Local/Programs/Python/Python310/lib/site-packages/pandas/core/apply.py?line=1143'>1144</a>\u001b[0m     \u001b[39m# GH#43986 Need to do list(mapped) in order to get treated as nested\u001b[39;00m\n\u001b[0;32m   <a href='file:///c%3A/Users/znman/AppData/Local/Programs/Python/Python310/lib/site-packages/pandas/core/apply.py?line=1144'>1145</a>\u001b[0m     \u001b[39m#  See also GH#25959 regarding EA support\u001b[39;00m\n\u001b[0;32m   <a href='file:///c%3A/Users/znman/AppData/Local/Programs/Python/Python310/lib/site-packages/pandas/core/apply.py?line=1145'>1146</a>\u001b[0m     \u001b[39mreturn\u001b[39;00m obj\u001b[39m.\u001b[39m_constructor_expanddim(\u001b[39mlist\u001b[39m(mapped), index\u001b[39m=\u001b[39mobj\u001b[39m.\u001b[39mindex)\n",
      "File \u001b[1;32m~\\AppData\\Local\\Programs\\Python\\Python310\\lib\\site-packages\\pandas\\_libs\\lib.pyx:2870\u001b[0m, in \u001b[0;36mpandas._libs.lib.map_infer\u001b[1;34m()\u001b[0m\n",
      "\u001b[1;32mc:\\Users\\znman\\Desktop\\Projects\\sof_sa\\notebooks\\exploration.ipynb Cell 15'\u001b[0m in \u001b[0;36mclean_age_column\u001b[1;34m(age)\u001b[0m\n\u001b[0;32m     <a href='vscode-notebook-cell:/c%3A/Users/znman/Desktop/Projects/sof_sa/notebooks/exploration.ipynb#ch0000017?line=44'>45</a>\u001b[0m         \u001b[39mreturn\u001b[39;00m \u001b[39m'\u001b[39m\u001b[39mPrefer not to say\u001b[39m\u001b[39m'\u001b[39m\n\u001b[0;32m     <a href='vscode-notebook-cell:/c%3A/Users/znman/Desktop/Projects/sof_sa/notebooks/exploration.ipynb#ch0000017?line=46'>47</a>\u001b[0m \u001b[39mif\u001b[39;00m \u001b[39misinstance\u001b[39m(age, \u001b[39mfloat\u001b[39m):\n\u001b[1;32m---> <a href='vscode-notebook-cell:/c%3A/Users/znman/Desktop/Projects/sof_sa/notebooks/exploration.ipynb#ch0000017?line=47'>48</a>\u001b[0m     \u001b[39mreturn\u001b[39;00m age_to_range(\u001b[39mround\u001b[39;49m(age))\n",
      "\u001b[1;31mValueError\u001b[0m: cannot convert float NaN to integer"
     ]
    }
   ],
   "source": [
    "# for values that are in range form: \n",
    "#   - take the average of the two values and use it as age\n",
    "# for values with one value and text\n",
    "#   - take the value and discard text\n",
    "# for entries with value 'prefer not to say'\n",
    "#   - replace with nan\n",
    "# for values of type float \n",
    "#   - round off and convert to int\n",
    "\n",
    "def age_to_range(number: int) -> str:\n",
    "\n",
    "    if number < 18:\n",
    "        return 'Under 18 years old'\n",
    "    elif number >= 18 or number <= 24:\n",
    "        return '18 - 24 years old'\n",
    "    elif number >= 25 or number <= 30:\n",
    "        return '25 - 30 years old'\n",
    "    elif number >= 31 or number <= 36:\n",
    "        return '31 - 36 years old'\n",
    "    elif number >= 37 or number <= 42:\n",
    "        return '37 - 42 years old'\n",
    "    elif number >= 43 or number <= 48:\n",
    "        return '43 - 48 years old'\n",
    "    elif number >= 49 or number <= 54:\n",
    "        return '49 - 54 years old'\n",
    "    elif number >= 55 or number <= 60:\n",
    "        return '55 - 60 years old'\n",
    "    elif number > 60:\n",
    "        return 'Over 60 years old'\n",
    "\n",
    "def clean_age_column(age):\n",
    "\n",
    "    if isinstance(age, str):\n",
    "        n = age.replace(\" \", \"\")\n",
    "        if 'or' in n:\n",
    "            return age_to_range(int(n[0:2]))\n",
    "                \n",
    "        if 'Under' in n:\n",
    "            return age_to_range(int(n[5:7]))\n",
    "            \n",
    "        if '-' in n:\n",
    "            return age_to_range((int(n[0:2]) + int(n[3:5]))//2)\n",
    "                \n",
    "        if 'Prefer' in n or 'None' in n:\n",
    "            return 'Prefer not to say'\n",
    "            \n",
    "    if isinstance(age, float):\n",
    "        return age_to_range(round(age))\n",
    "         \n",
    "\n",
    "# Export to utility functions\n",
    "def replace_na_with_mean(df: pd.DataFrame, column_name: str) -> None:\n",
    "    \n",
    "    age_list = df[column_name].to_list()\n",
    "    new_age = []\n",
    "\n",
    "    for age in age_list:\n",
    "        if isinstance(age, str):\n",
    "            n = age.replace(\" \", \"\")\n",
    "            if 'or' in n:\n",
    "                new_age.append(int(n[0:2]))\n",
    "                \n",
    "            if 'Under' in n:\n",
    "                new_age.append(int(n[5:7]))\n",
    "            \n",
    "            if '-' in n:\n",
    "                new_age.append((int(n[0:2]) + int(n[3:5]))//2)\n",
    "                \n",
    "            if 'Prefer' in n or 'None' in n:\n",
    "                new_age.append(np.nan)\n",
    "        \n",
    "        if isinstance(age, float):\n",
    "            if np.isnan(age):\n",
    "                new_age.append(age)\n",
    "            else:\n",
    "                new_age.append(round(age))\n",
    "            \n",
    "    print(len(age_list))\n",
    "    print(len(new_age))       \n",
    "    #mean = pd.to_numeric(df[column_name]).mean(skipna=True)\n",
    "    #print(mean)\n",
    "    #df[column_name].fillna({'age': mean}, inplace=True)\n",
    " \n",
    "# replace nan values with mean   \n",
    "replace_na_with_mean(df2018, 'age')\n",
    "replace_na_with_mean(df2019, 'age')\n",
    "replace_na_with_mean(df2020, 'age')\n",
    "replace_na_with_mean(df2021, 'age')\n",
    "\n",
    "# clean the age column\n",
    "df2018['age'].apply(clean_age_column)\n",
    "df2019['age'].apply(clean_age_column)\n",
    "df2020['age'].apply(clean_age_column)\n",
    "df2021['age'].apply(clean_age_column)\n",
    "\n",
    "# age column is clean\n",
    "df2018.head()"
   ]
  },
  {
   "cell_type": "code",
   "execution_count": null,
   "metadata": {},
   "outputs": [],
   "source": [
    "# question 1.1\n",
    "from collections import Counter\n",
    "\n",
    "def count_unique_items_in_column(df: pd.DataFrame, column_name: str) -> pd.DataFrame:\n",
    "    \n",
    "    column_as_list = df[column_name].tolist()\n",
    "    \n",
    "    new_list = []\n",
    "    for list_item in column_as_list: \n",
    "        \n",
    "        # for nan values\n",
    "        if type(list_item) == float:\n",
    "            new_list.append(list_item)\n",
    "            \n",
    "        if type(list_item) == list:\n",
    "            singleitem = next(iter(list_item[0].split(';')))\n",
    "            new_list.append(singleitem)\n",
    "            \n",
    "        if type(list_item) == str: \n",
    "            singleitem = next(iter(list_item.split(';')))\n",
    "            new_list.append(singleitem)\n",
    "            \n",
    "    # find the number of occurances of a item in a list\n",
    "    occ = Counter(new_list)\n",
    "    language = []\n",
    "    count = []\n",
    "    for x in occ:\n",
    "        key = x\n",
    "        value = occ[key]\n",
    "        language.append(key)\n",
    "        count.append(value)\n",
    "\n",
    "    df_temp = pd.DataFrame(list(zip(language, count)), columns = [column_name, 'count'])\n",
    "    df_temp.set_index(column_name, inplace=True)\n",
    "    df_temp.sort_values(by='count', ascending=True, inplace=True)\n",
    "    return df_temp\n"
   ]
  },
  {
   "cell_type": "code",
   "execution_count": null,
   "metadata": {},
   "outputs": [],
   "source": [
    "# Columns needed : ResponseId, LanguageHaveWorkedWith, LanguageWantToWorkWith\n",
    "df18_languages_workedwith = count_unique_items_in_column(df_2018, 'language_worked_with')\n",
    "df18_languages_workedwith"
   ]
  },
  {
   "cell_type": "code",
   "execution_count": null,
   "metadata": {},
   "outputs": [],
   "source": [
    "# Creating tables for question 1.2\n",
    "# columns needed : ResponseId, DatabaseHaveWorkedWith, DatabaseWantToWorkWith\n",
    "\n"
   ]
  },
  {
   "cell_type": "code",
   "execution_count": null,
   "metadata": {},
   "outputs": [],
   "source": [
    "# Creating tables for question 1.3\n",
    "# columns needed : ResponseId, WebframeHaveWorkedWith, WebframeWantToWorkWith, MiscTechHaveWorkedWith,    MiscTechWantToWorkWith, PlatformHaveWorkedWith, PlatformWantToWorkWith\n",
    "\n"
   ]
  },
  {
   "cell_type": "code",
   "execution_count": null,
   "metadata": {},
   "outputs": [],
   "source": [
    "# Creating tables for question 2\n",
    "# columns needed : ResponseId, Age, Ethnicity, Gender"
   ]
  }
 ],
 "metadata": {
  "interpreter": {
   "hash": "b0c98c8edbe3097da9b1ed79db56cd04922f86d5ad07ab3cd840fdb6d8eb2203"
  },
  "kernelspec": {
   "display_name": "Python 3.9.6 64-bit ('py39_dataeng': venv)",
   "language": "python",
   "name": "python3"
  },
  "language_info": {
   "codemirror_mode": {
    "name": "ipython",
    "version": 3
   },
   "file_extension": ".py",
   "mimetype": "text/x-python",
   "name": "python",
   "nbconvert_exporter": "python",
   "pygments_lexer": "ipython3",
   "version": "3.10.2"
  },
  "orig_nbformat": 4
 },
 "nbformat": 4,
 "nbformat_minor": 2
}
