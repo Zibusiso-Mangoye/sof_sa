{
 "cells": [
  {
   "cell_type": "markdown",
   "metadata": {},
   "source": [
    "### Performing exploratory data analysis on data from the StakeOverFlow developer survey from the years 2018 to 2021"
   ]
  },
  {
   "cell_type": "markdown",
   "metadata": {},
   "source": [
    "##### Table of Contents\n",
    "\n",
    "Phase 1 : Extracting the data\n",
    "- Exploring the data\n",
    "- Data Modelling\n",
    "        \n",
    "Phase 2 : Transforming the data\n",
    "- Cleaning the data\n",
    "- Merging dataframes\n",
    "- Cleaning the new dataframe\n",
    "\n",
    "Phase 3 : Loading the data\n",
    "- Loading in the data into a database"
   ]
  },
  {
   "cell_type": "markdown",
   "metadata": {},
   "source": [
    "#### Extracting the data"
   ]
  },
  {
   "cell_type": "markdown",
   "metadata": {},
   "source": [
    "\n",
    "While writing this notebook, the data was stored locally in my computer therefore to follow along with this note book you will need to download the data from here : https://insights.stackoverflow.com/survey/\n",
    "\n"
   ]
  },
  {
   "cell_type": "code",
   "execution_count": 1,
   "metadata": {},
   "outputs": [],
   "source": [
    "import pandas as pd\n",
    "import numpy as np\n",
    "\n",
    "#setting the maximum display for the notebook cells \n",
    "pd.set_option('display.max_rows', 48)\n",
    "pd.set_option('display.max_columns', 48)\n",
    "\n",
    "#removing annoying warnings \n",
    "pd.options.mode.chained_assignment = None  # default='warn'"
   ]
  },
  {
   "cell_type": "code",
   "execution_count": 2,
   "metadata": {},
   "outputs": [],
   "source": [
    "# loading the data from csv files\n",
    "df_2018 = pd.read_csv(\"..\\\\Data\\\\survey_results_public_2018.csv\", low_memory=False)\n",
    "df_2019 = pd.read_csv(\"..\\\\Data\\\\survey_results_public_2019.csv\", low_memory=False)\n",
    "df_2020 = pd.read_csv(\"..\\\\Data\\\\survey_results_public_2020.csv\", low_memory=False)\n",
    "df_2021 = pd.read_csv(\"..\\\\Data\\\\survey_results_public_2021.csv\", low_memory=False)"
   ]
  },
  {
   "cell_type": "markdown",
   "metadata": {},
   "source": [
    "##### Exploring the data"
   ]
  },
  {
   "cell_type": "code",
   "execution_count": 3,
   "metadata": {},
   "outputs": [
    {
     "name": "stdout",
     "output_type": "stream",
     "text": [
      "df_2018 has shape : (98855, 129)\n",
      "df_2019 has shape : (88883, 85)\n",
      "df_2020 has shape : (64461, 61)\n",
      "df_2021 has shape : (83439, 48)\n"
     ]
    }
   ],
   "source": [
    "# The size of the different datasets\n",
    "print(f\"df_2018 has shape : {df_2018.shape}\")\n",
    "print(f\"df_2019 has shape : {df_2019.shape}\")\n",
    "print(f\"df_2020 has shape : {df_2020.shape}\")\n",
    "print(f\"df_2021 has shape : {df_2021.shape}\")"
   ]
  },
  {
   "cell_type": "markdown",
   "metadata": {},
   "source": [
    "#### Observation - *The number of survey participants has been decreasing from 2018 to 2020 even though the survey length is becoming shorter. Except for the year 2021 which has seen an increase in survey participant and decreasing survey length*\n",
    "\n",
    "##### Since the 2021 dataset has fewer columns, it is the primary dataset and a subsest of the other datasets will be taken in order to answer the following questions:\n",
    "\n",
    "#### Question 1. *How much impact has the pandemic had on developer's choices of tech stack?*\n",
    "This is question is broken down to three parts namely:\n",
    "\n",
    "##### Question 1.1 Which programming languages have gained popularity from 2018 to 2021?\n",
    "columns needed : ResponseId, LanguageHaveWorkedWith, LanguageWantToWorkWith\n",
    "\n",
    "##### Question 1.2 Which database services have gained popularity from 2018 to 2021?\n",
    "columns needed : ResponseId, DatabaseHaveWorkedWith, DatabaseWantToWorkWith\n",
    "\n",
    "##### Question 1.3 Which platforms and frameworks have gained popularity from 2018 to 2021?\n",
    "columns needed : ResponseId, WebframeHaveWorkedWith, WebframeWantToWorkWith, MiscTechHaveWorkedWith,    MiscTechWantToWorkWith, PlatformHaveWorkedWith, PlatformWantToWorkWith\n",
    "\n",
    "#### Question 2. *How has the distribution of gender, age and ethnicity in the developer community changed from 2018 to 2021?*\n",
    "columns needed : ResponseId, Age, Ethnicity, Gender"
   ]
  },
  {
   "cell_type": "code",
   "execution_count": 4,
   "metadata": {},
   "outputs": [
    {
     "data": {
      "text/plain": [
       "Index(['ResponseId', 'MainBranch', 'Employment', 'Country', 'US_State',\n",
       "       'UK_Country', 'EdLevel', 'Age1stCode', 'LearnCode', 'YearsCode',\n",
       "       'YearsCodePro', 'DevType', 'OrgSize', 'Currency', 'CompTotal',\n",
       "       'CompFreq', 'LanguageHaveWorkedWith', 'LanguageWantToWorkWith',\n",
       "       'DatabaseHaveWorkedWith', 'DatabaseWantToWorkWith',\n",
       "       'PlatformHaveWorkedWith', 'PlatformWantToWorkWith',\n",
       "       'WebframeHaveWorkedWith', 'WebframeWantToWorkWith',\n",
       "       'MiscTechHaveWorkedWith', 'MiscTechWantToWorkWith',\n",
       "       'ToolsTechHaveWorkedWith', 'ToolsTechWantToWorkWith',\n",
       "       'NEWCollabToolsHaveWorkedWith', 'NEWCollabToolsWantToWorkWith', 'OpSys',\n",
       "       'NEWStuck', 'NEWSOSites', 'SOVisitFreq', 'SOAccount', 'SOPartFreq',\n",
       "       'SOComm', 'NEWOtherComms', 'Age', 'Gender', 'Trans', 'Sexuality',\n",
       "       'Ethnicity', 'Accessibility', 'MentalHealth', 'SurveyLength',\n",
       "       'SurveyEase', 'ConvertedCompYearly'],\n",
       "      dtype='object')"
      ]
     },
     "execution_count": 4,
     "metadata": {},
     "output_type": "execute_result"
    }
   ],
   "source": [
    "df_2021.columns"
   ]
  },
  {
   "cell_type": "code",
   "execution_count": 5,
   "metadata": {},
   "outputs": [
    {
     "name": "stdout",
     "output_type": "stream",
     "text": [
      "df_2018 has shape : (98855, 12)\n",
      "df_2019 has shape : (88883, 10)\n",
      "df_2020 has shape : (64461, 10)\n",
      "df_2021 has shape : (83439, 12)\n"
     ]
    }
   ],
   "source": [
    "# Dropping the columns that are not necessary in the 2021 dataset\n",
    "columns_interested_in21 = [\"ResponseId\", \"LanguageHaveWorkedWith\", \"LanguageWantToWorkWith\", \"DatabaseHaveWorkedWith\", \n",
    "                          \"DatabaseWantToWorkWith\", \"WebframeHaveWorkedWith\", \"WebframeWantToWorkWith\", \n",
    "                          \"PlatformHaveWorkedWith\", \"PlatformWantToWorkWith\", \"Age\", \"Ethnicity\", \"Gender\"]\n",
    "\n",
    "# Dropping the columns that are not necessary in the 2020 dataset\n",
    "columns_interested_in20 = ['Respondent',  'Age', 'DatabaseDesireNextYear', 'DatabaseWorkedWith',\n",
    "                           'Ethnicity', 'Gender', 'LanguageDesireNextYear','LanguageWorkedWith',\n",
    "                           'PlatformDesireNextYear','PlatformWorkedWith']\n",
    "\n",
    "# Dropping the columns that are not necessary in the 2019 dataset\n",
    "columns_interested_in19 = ['Respondent', 'Age', 'DatabaseDesireNextYear', 'DatabaseWorkedWith',\n",
    "                           'Ethnicity', 'Gender', 'LanguageDesireNextYear','LanguageWorkedWith',\n",
    "                           'PlatformDesireNextYear','PlatformWorkedWith']\n",
    "\n",
    "# Dropping the columns that are not necessary in the 2018 dataset\n",
    "columns_interested_in18 = ['Respondent',  'Age', 'DatabaseDesireNextYear', 'DatabaseWorkedWith','RaceEthnicity',\n",
    "                           'Gender', 'LanguageDesireNextYear', 'LanguageWorkedWith','PlatformDesireNextYear',\n",
    "                           'PlatformWorkedWith', 'FrameworkWorkedWith','FrameworkDesireNextYear']\n",
    "\n",
    "df_2018 = df_2018[columns_interested_in18]\n",
    "df_2019 = df_2019[columns_interested_in19]\n",
    "df_2020 = df_2020[columns_interested_in20]\n",
    "df_2021 = df_2021[columns_interested_in21]\n",
    "\n",
    "# The new size of the different datasets\n",
    "print(f\"df_2018 has shape : {df_2018.shape}\")\n",
    "print(f\"df_2019 has shape : {df_2019.shape}\")\n",
    "print(f\"df_2020 has shape : {df_2020.shape}\")\n",
    "print(f\"df_2021 has shape : {df_2021.shape}\")"
   ]
  },
  {
   "cell_type": "markdown",
   "metadata": {},
   "source": [
    "#### Data Modelling"
   ]
  },
  {
   "cell_type": "markdown",
   "metadata": {},
   "source": [
    "#### Transforming the data"
   ]
  },
  {
   "cell_type": "markdown",
   "metadata": {},
   "source": [
    "##### Before creating tables, all the datasets are joined to create one dataframe that can then be subdivided into tables\n",
    "\n",
    "*The question of which web framework the respondents used or would like to use was not asked in 2018, so framework in general will be used.*"
   ]
  },
  {
   "cell_type": "code",
   "execution_count": 6,
   "metadata": {},
   "outputs": [
    {
     "name": "stdout",
     "output_type": "stream",
     "text": [
      "Index(['Respondent', 'Age', 'DatabaseDesireNextYear', 'DatabaseWorkedWith',\n",
      "       'RaceEthnicity', 'Gender', 'LanguageDesireNextYear',\n",
      "       'LanguageWorkedWith', 'PlatformDesireNextYear', 'PlatformWorkedWith',\n",
      "       'FrameworkWorkedWith', 'FrameworkDesireNextYear'],\n",
      "      dtype='object')\n",
      "Index(['Respondent', 'Age', 'DatabaseDesireNextYear', 'DatabaseWorkedWith',\n",
      "       'Ethnicity', 'Gender', 'LanguageDesireNextYear', 'LanguageWorkedWith',\n",
      "       'PlatformDesireNextYear', 'PlatformWorkedWith'],\n",
      "      dtype='object')\n",
      "Index(['Respondent', 'Age', 'DatabaseDesireNextYear', 'DatabaseWorkedWith',\n",
      "       'Ethnicity', 'Gender', 'LanguageDesireNextYear', 'LanguageWorkedWith',\n",
      "       'PlatformDesireNextYear', 'PlatformWorkedWith'],\n",
      "      dtype='object')\n",
      "Index(['ResponseId', 'LanguageHaveWorkedWith', 'LanguageWantToWorkWith',\n",
      "       'DatabaseHaveWorkedWith', 'DatabaseWantToWorkWith',\n",
      "       'WebframeHaveWorkedWith', 'WebframeWantToWorkWith',\n",
      "       'PlatformHaveWorkedWith', 'PlatformWantToWorkWith', 'Age', 'Ethnicity',\n",
      "       'Gender'],\n",
      "      dtype='object')\n"
     ]
    }
   ],
   "source": [
    "# Standardizing the dataframe column names \n",
    "print(df_2018.columns)\n",
    "print(df_2019.columns)\n",
    "print(df_2020.columns)\n",
    "print(df_2021.columns)"
   ]
  },
  {
   "cell_type": "code",
   "execution_count": 8,
   "metadata": {},
   "outputs": [
    {
     "name": "stdout",
     "output_type": "stream",
     "text": [
      "Index(['Respondent', 'Age', 'DatabaseDesireNextYear', 'DatabaseWorkedWith',\n",
      "       'Ethnicity', 'Gender', 'LanguageDesireNextYear', 'LanguageWorkedWith',\n",
      "       'PlatformDesireNextYear', 'PlatformWorkedWith',\n",
      "       'WebframeHaveWorkedWith', 'WebframeWantToWorkWith'],\n",
      "      dtype='object')\n",
      "Index(['Respondent', 'Age', 'DatabaseDesireNextYear', 'DatabaseWorkedWith',\n",
      "       'Ethnicity', 'Gender', 'LanguageDesireNextYear', 'LanguageWorkedWith',\n",
      "       'PlatformDesireNextYear', 'PlatformWorkedWith'],\n",
      "      dtype='object')\n",
      "Index(['Respondent', 'Age', 'DatabaseDesireNextYear', 'DatabaseWorkedWith',\n",
      "       'Ethnicity', 'Gender', 'LanguageDesireNextYear', 'LanguageWorkedWith',\n",
      "       'PlatformDesireNextYear', 'PlatformWorkedWith'],\n",
      "      dtype='object')\n",
      "Index(['Respondent', 'Age', 'DatabaseDesireNextYear', 'DatabaseWorkedWith',\n",
      "       'Ethnicity', 'Gender', 'LanguageDesireNextYear', 'LanguageWorkedWith',\n",
      "       'PlatformDesireNextYear', 'PlatformWorkedWith',\n",
      "       'WebframeHaveWorkedWith', 'WebframeWantToWorkWith'],\n",
      "      dtype='object')\n"
     ]
    }
   ],
   "source": [
    "# Convert:\n",
    "#       RaceEthnicity to Ethnicity in the 2018 dataset\n",
    "#       FrameworkWorkedWith to WebframeHaveWorkedWith in the 2018 dataset\n",
    "#       FrameworkDesireNextYear to WebframeWantToWorkWith in the 2018 dataset\n",
    "columns2 = {\"FrameworkWorkedWith\": \"WebframeHaveWorkedWith\",\n",
    "           \"FrameworkDesireNextYear\": \"WebframeWantToWorkWith\", \"RaceEthnicity\": \"Ethnicity\"}\n",
    "df_2018.rename(columns=columns2, inplace=True)\n",
    "\n",
    "#       DatabaseHaveWorkedWith to DatabaseWorkedWith in the 2021 dataset\n",
    "#       DatabaseWantToWorkWith to DatabaseDesireNextYear in the 2021 dataset\n",
    "#       LanguageHaveWorkedWith to LanguageWorkedWith in the 2021 dataset\n",
    "#       LanguageWantToWorkWith to LanguageDesireNextYear in the 2021 dataset \n",
    "#       PlatformHaveWorkedWith to PlatformWorkedWith in the 2021 dataset\n",
    "#       PlatformWantToWorkWith to PlatformDesireNextYear in the 2021 dataset\n",
    "columns3 = {\"ResponseId\" : \"Respondent\", \"DatabaseHaveWorkedWith\" : \"DatabaseWorkedWith\", \n",
    "            \"DatabaseWantToWorkWith\" : \"DatabaseDesireNextYear\", \"LanguageHaveWorkedWith\" : \"LanguageWorkedWith\",\n",
    "            \"LanguageWantToWorkWith\" : \"LanguageDesireNextYear\", \"PlatformHaveWorkedWith\" : \"PlatformWorkedWith\", \n",
    "            \"PlatformWantToWorkWith\" : \"PlatformDesireNextYear\"}\n",
    "df_2021.rename(columns=columns3, inplace=True)\n",
    "\n",
    "# Making sure that the 2021 dataset columns align with the rest of the datasets\n",
    "new_column_order = ['Respondent', 'Age', 'DatabaseDesireNextYear', 'DatabaseWorkedWith', \n",
    "       'Ethnicity', 'Gender', 'LanguageDesireNextYear','LanguageWorkedWith',\n",
    "       'PlatformDesireNextYear', 'PlatformWorkedWith',\n",
    "       'WebframeHaveWorkedWith', 'WebframeWantToWorkWith']\n",
    "\n",
    "df_2021 = df_2021[new_column_order]\n",
    "\n",
    "print(df_2018.columns)\n",
    "print(df_2019.columns)\n",
    "print(df_2020.columns)\n",
    "print(df_2021.columns)"
   ]
  },
  {
   "cell_type": "code",
   "execution_count": 11,
   "metadata": {},
   "outputs": [],
   "source": [
    "# Creating tables for question 1.1\n",
    "\n",
    "def df_to_list(df: pd.DataFrame, column_name: str) -> list:\n",
    "    \"\"\"Converts a given dataframe into a list\n",
    "\n",
    "    Args:\n",
    "        df (pd.DataFrame): dataframe to be modified\n",
    "        column_name (str): column name to be converted in dataframe\n",
    "\n",
    "    Returns:\n",
    "        list: column items in list form\n",
    "    \"\"\"\n",
    "    col_one_list = df[column_name].tolist()\n",
    "    \n",
    "    new_languages_list = []\n",
    "    for list_item in col_one_list: \n",
    "        \n",
    "        # for nan values\n",
    "        if type(list_item) == float:\n",
    "            new_languages_list.append(list_item)\n",
    "            \n",
    "        if type(list_item) == list:\n",
    "            singleitem = next(iter(list_item.split(';')))\n",
    "            new_languages_list.append(singleitem)\n",
    "            \n",
    "        if type(list_item) == str: \n",
    "            singleitem = next(iter(list_item.split(';')))\n",
    "            new_languages_list.append(singleitem)\n",
    "            \n",
    "    return new_languages_list\n",
    "\n",
    "languages_worked_with = df_to_list(df_2021, 'LanguageWorkedWith')\n",
    "languages_want_to_work_with = df_to_list(df_2021, 'LanguageDesireNextYear')\n",
    "\n",
    "\n",
    "# Columns needed : ResponseId, LanguageHaveWorkedWith, LanguageWantToWorkWith\n",
    "from collections import Counter\n",
    "if Counter(languages_worked_with) == Counter(languages_want_to_work_with):\n",
    "    df21 = pd.DataFrame(list(zip(languages_worked_with, languages_want_to_work_with)), columns=['languages_worked_with','languages_want_to_work_with'])\n",
    "    df21.index.rename(\"respondent\", inplace=True)\n",
    "\n",
    "def add_year_to_df(df: pd.DataFrame, year: int) -> None:\n",
    "    \"\"\"Adds a column named year to the provided dataframe\n",
    "\n",
    "    Args:\n",
    "        df (pd.DataFrame): dataframe to be modified\n",
    "        year (int): value of year to be added\n",
    "    \"\"\"\n",
    "    sLength = df.shape[0]\n",
    "    df['year'] = pd.Series(np.full(sLength, year))\n",
    "\n",
    "add_year_to_df(df_2020, 2020)\n"
   ]
  },
  {
   "cell_type": "code",
   "execution_count": 12,
   "metadata": {},
   "outputs": [
    {
     "data": {
      "text/html": [
       "<div>\n",
       "<style scoped>\n",
       "    .dataframe tbody tr th:only-of-type {\n",
       "        vertical-align: middle;\n",
       "    }\n",
       "\n",
       "    .dataframe tbody tr th {\n",
       "        vertical-align: top;\n",
       "    }\n",
       "\n",
       "    .dataframe thead th {\n",
       "        text-align: right;\n",
       "    }\n",
       "</style>\n",
       "<table border=\"1\" class=\"dataframe\">\n",
       "  <thead>\n",
       "    <tr style=\"text-align: right;\">\n",
       "      <th></th>\n",
       "      <th>languages_worked_with</th>\n",
       "      <th>languages_want_to_work_with</th>\n",
       "    </tr>\n",
       "    <tr>\n",
       "      <th>respondent</th>\n",
       "      <th></th>\n",
       "      <th></th>\n",
       "    </tr>\n",
       "  </thead>\n",
       "  <tbody>\n",
       "    <tr>\n",
       "      <th>0</th>\n",
       "      <td>C#</td>\n",
       "      <td>C#</td>\n",
       "    </tr>\n",
       "    <tr>\n",
       "      <th>1</th>\n",
       "      <td>JavaScript</td>\n",
       "      <td>Python</td>\n",
       "    </tr>\n",
       "    <tr>\n",
       "      <th>2</th>\n",
       "      <td>Objective-C</td>\n",
       "      <td>Objective-C</td>\n",
       "    </tr>\n",
       "    <tr>\n",
       "      <th>3</th>\n",
       "      <td>NaN</td>\n",
       "      <td>NaN</td>\n",
       "    </tr>\n",
       "    <tr>\n",
       "      <th>4</th>\n",
       "      <td>HTML/CSS</td>\n",
       "      <td>Java</td>\n",
       "    </tr>\n",
       "    <tr>\n",
       "      <th>...</th>\n",
       "      <td>...</td>\n",
       "      <td>...</td>\n",
       "    </tr>\n",
       "    <tr>\n",
       "      <th>64456</th>\n",
       "      <td>NaN</td>\n",
       "      <td>NaN</td>\n",
       "    </tr>\n",
       "    <tr>\n",
       "      <th>64457</th>\n",
       "      <td>Assembly</td>\n",
       "      <td>Assembly</td>\n",
       "    </tr>\n",
       "    <tr>\n",
       "      <th>64458</th>\n",
       "      <td>NaN</td>\n",
       "      <td>NaN</td>\n",
       "    </tr>\n",
       "    <tr>\n",
       "      <th>64459</th>\n",
       "      <td>HTML/CSS</td>\n",
       "      <td>HTML/CSS</td>\n",
       "    </tr>\n",
       "    <tr>\n",
       "      <th>64460</th>\n",
       "      <td>C#</td>\n",
       "      <td>C#</td>\n",
       "    </tr>\n",
       "  </tbody>\n",
       "</table>\n",
       "<p>64461 rows × 2 columns</p>\n",
       "</div>"
      ],
      "text/plain": [
       "           languages_worked_with languages_want_to_work_with\n",
       "respondent                                                  \n",
       "0                             C#                          C#\n",
       "1                     JavaScript                      Python\n",
       "2                    Objective-C                 Objective-C\n",
       "3                            NaN                         NaN\n",
       "4                       HTML/CSS                        Java\n",
       "...                          ...                         ...\n",
       "64456                        NaN                         NaN\n",
       "64457                   Assembly                    Assembly\n",
       "64458                        NaN                         NaN\n",
       "64459                   HTML/CSS                    HTML/CSS\n",
       "64460                         C#                          C#\n",
       "\n",
       "[64461 rows x 2 columns]"
      ]
     },
     "execution_count": 12,
     "metadata": {},
     "output_type": "execute_result"
    }
   ],
   "source": [
    "languages_worked_with20 = df_to_list(df_2020, 'LanguageWorkedWith')\n",
    "languages_want_to_work_with20 = df_to_list(df_2020, 'LanguageDesireNextYear')\n",
    "\n",
    "\n",
    "# Columns needed : ResponseId, LanguageHaveWorkedWith, LanguageWantToWorkWith\n",
    "if (len(languages_worked_with20) - len(languages_want_to_work_with20)) < 0: \n",
    "    # first list is smaller than second list so fix first list\n",
    "    # get the number of elements missing and get absolute value of subtraction missing\n",
    "    no_missing_elements = abs(len(languages_worked_with20) - len(languages_want_to_work_with20))\n",
    "    # then add that to small list\n",
    "    new_values = [\"None\"]*no_missing_elements\n",
    "    languages_worked_with20.extend(new_values)\n",
    "    \n",
    "if (len(languages_worked_with20) - len(languages_want_to_work_with20)) > 0:\n",
    "    # second list is smaller so fix second list \n",
    "    no_missing_elements = abs(len(languages_worked_with20) - len(languages_want_to_work_with20))\n",
    "    # then add that to small list\n",
    "    new_values = [\"None\"]*no_missing_elements\n",
    "    languages_want_to_work_with20.extend(new_values)\n",
    "    \n",
    "df20 = pd.DataFrame(list(zip(languages_worked_with20, languages_want_to_work_with20)), columns=['languages_worked_with','languages_want_to_work_with'])\n",
    "df20.index.rename(\"respondent\", inplace=True)\n",
    "\n",
    "def add_year_to_df(df: pd.DataFrame, year: int) -> None:\n",
    "    \"\"\"Adds a column named year to the provided dataframe\n",
    "\n",
    "    Args:\n",
    "        df (pd.DataFrame): dataframe to be modified\n",
    "        year (int): value of year to be added\n",
    "    \"\"\"\n",
    "    sLength = df.shape[0]\n",
    "    df['year'] = pd.Series(np.full(sLength, year))\n",
    "\n",
    "add_year_to_df(df_2020, 2020)\n",
    "df20"
   ]
  },
  {
   "cell_type": "code",
   "execution_count": null,
   "metadata": {},
   "outputs": [],
   "source": [
    "# Creating tables for question 1.2\n",
    "# columns needed : ResponseId, DatabaseHaveWorkedWith, DatabaseWantToWorkWith\n",
    "\n"
   ]
  },
  {
   "cell_type": "code",
   "execution_count": null,
   "metadata": {},
   "outputs": [],
   "source": [
    "# Creating tables for question 1.3\n",
    "# columns needed : ResponseId, WebframeHaveWorkedWith, WebframeWantToWorkWith, MiscTechHaveWorkedWith,    MiscTechWantToWorkWith, PlatformHaveWorkedWith, PlatformWantToWorkWith\n",
    "\n"
   ]
  },
  {
   "cell_type": "code",
   "execution_count": null,
   "metadata": {},
   "outputs": [],
   "source": [
    "# Creating tables for question 2\n",
    "# columns needed : ResponseId, Age, Ethnicity, Gender"
   ]
  }
 ],
 "metadata": {
  "interpreter": {
   "hash": "b0c98c8edbe3097da9b1ed79db56cd04922f86d5ad07ab3cd840fdb6d8eb2203"
  },
  "kernelspec": {
   "display_name": "Python 3.9.6 64-bit ('py39_dataeng': venv)",
   "language": "python",
   "name": "python3"
  },
  "language_info": {
   "codemirror_mode": {
    "name": "ipython",
    "version": 3
   },
   "file_extension": ".py",
   "mimetype": "text/x-python",
   "name": "python",
   "nbconvert_exporter": "python",
   "pygments_lexer": "ipython3",
   "version": "3.10.2"
  },
  "orig_nbformat": 4
 },
 "nbformat": 4,
 "nbformat_minor": 2
}
