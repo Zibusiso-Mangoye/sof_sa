{
 "cells": [
  {
   "cell_type": "code",
   "execution_count": 5,
   "metadata": {},
   "outputs": [],
   "source": [
    "import project_path\n",
    "\n",
    "import pandas as pd\n",
    "from sof_sa.utility_functions import connect2db, db_config\n",
    "\n",
    "creds = db_config(\"..\\\\dev_dbconfig.yaml\", 0)\n",
    "engine = connect2db(**creds)"
   ]
  },
  {
   "cell_type": "code",
   "execution_count": 8,
   "metadata": {},
   "outputs": [
    {
     "data": {
      "text/plain": [
       "[(0, 'Perl', '$76,000'),\n",
       " (1, 'Scala', '$76,000'),\n",
       " (2, 'Go', '$74,000'),\n",
       " (3, 'Rust', '$74,000'),\n",
       " (4, 'Ruby', '$71,000'),\n",
       " (5, 'Bash/Shell/PowerShell', '$65,000'),\n",
       " (6, 'Objective-C', '$64,000'),\n",
       " (7, 'Haskell', '$60,000'),\n",
       " (8, 'Julia', '$59,000'),\n",
       " (9, 'Python', '$59,000'),\n",
       " (10, 'Swift', '$58,000'),\n",
       " (11, 'C#', '$57,000'),\n",
       " (12, 'R', '$57,000'),\n",
       " (13, 'TypeScript', '$57,000'),\n",
       " (14, 'Kotlin', '$54,000'),\n",
       " (15, 'SQL', '$54,000'),\n",
       " (16, 'Assembly', '$53,000'),\n",
       " (17, 'C++', '$53,000'),\n",
       " (18, 'JavaScript', '$53,000'),\n",
       " (19, 'HTML/CSS', '$52,000'),\n",
       " (20, 'VBA', '$51,000'),\n",
       " (21, 'C', '$50,000'),\n",
       " (22, 'Java', '$50,000'),\n",
       " (23, 'PHP', '$39,000'),\n",
       " (24, 'Dart', '$37,000')]"
      ]
     },
     "execution_count": 8,
     "metadata": {},
     "output_type": "execute_result"
    }
   ],
   "source": [
    "from sqlalchemy import text\n",
    "\n",
    "sql = text('select * from pl_salary_staging')\n",
    "result = engine.execute(sql)\n",
    "result.fetchall()"
   ]
  }
 ],
 "metadata": {
  "interpreter": {
   "hash": "b0c98c8edbe3097da9b1ed79db56cd04922f86d5ad07ab3cd840fdb6d8eb2203"
  },
  "kernelspec": {
   "display_name": "Python 3.9.6 64-bit ('py39_dataeng': venv)",
   "language": "python",
   "name": "python3"
  },
  "language_info": {
   "codemirror_mode": {
    "name": "ipython",
    "version": 3
   },
   "file_extension": ".py",
   "mimetype": "text/x-python",
   "name": "python",
   "nbconvert_exporter": "python",
   "pygments_lexer": "ipython3",
   "version": "3.9.6"
  },
  "orig_nbformat": 4
 },
 "nbformat": 4,
 "nbformat_minor": 2
}
